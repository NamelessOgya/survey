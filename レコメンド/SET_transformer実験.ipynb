{
  "nbformat": 4,
  "nbformat_minor": 0,
  "metadata": {
    "colab": {
      "provenance": [],
      "collapsed_sections": [
        "xqSNlKjqOnd8",
        "XtXecWgWKQ0V"
      ]
    },
    "kernelspec": {
      "name": "python3",
      "display_name": "Python 3"
    },
    "language_info": {
      "name": "python"
    }
  },
  "cells": [
    {
      "cell_type": "code",
      "execution_count": 1,
      "metadata": {
        "id": "SiFBl409PN5C"
      },
      "outputs": [],
      "source": [
        "import tensorflow as tf"
      ]
    },
    {
      "cell_type": "code",
      "source": [
        "import numpy as np"
      ],
      "metadata": {
        "id": "vji3OO1s2Uss"
      },
      "execution_count": 2,
      "outputs": []
    },
    {
      "cell_type": "code",
      "source": [
        "sample_query = tf.constant(np.random.rand(100, 5, 30).astype(\"float32\"))# 30次元、10配列のデータが100個あるという想定\n",
        "sample_key   = tf.constant(np.random.rand(100, 10, 40).astype(\"float32\"))# 20次元、10配列のデータが100個あるという想定\n",
        "sample_value = tf.constant(np.random.rand(100, 10, 40).astype(\"float32\"))# 20次元、10配列のデータが100個あるという想定"
      ],
      "metadata": {
        "id": "Oc4UagSO1-ZZ"
      },
      "execution_count": 3,
      "outputs": []
    },
    {
      "cell_type": "markdown",
      "source": [
        "# Multihead イメージ"
      ],
      "metadata": {
        "id": "xqSNlKjqOnd8"
      }
    },
    {
      "cell_type": "code",
      "source": [
        "sample_ = tf.constant([\n",
        "    [1 ,2 ,3 ,4 ],\n",
        "    [4 ,5 ,6 ,7 ],\n",
        "    [7 ,8 ,9 ,10],\n",
        "    [10,11,12,13],\n",
        "    [13,14,15,16],\n",
        "    [16,17,18,19],\n",
        "  ]\n",
        "    \n",
        ")"
      ],
      "metadata": {
        "id": "XijT18IMOpek"
      },
      "execution_count": null,
      "outputs": []
    },
    {
      "cell_type": "code",
      "source": [
        "tf.reshape(sample_, [3,2,4])"
      ],
      "metadata": {
        "colab": {
          "base_uri": "https://localhost:8080/"
        },
        "id": "WsMVgfCTO--m",
        "outputId": "1db39099-b4ae-4bf5-a232-ec7d7c728673"
      },
      "execution_count": null,
      "outputs": [
        {
          "output_type": "execute_result",
          "data": {
            "text/plain": [
              "<tf.Tensor: shape=(3, 2, 4), dtype=int32, numpy=\n",
              "array([[[ 1,  2,  3,  4],\n",
              "        [ 4,  5,  6,  7]],\n",
              "\n",
              "       [[ 7,  8,  9, 10],\n",
              "        [10, 11, 12, 13]],\n",
              "\n",
              "       [[13, 14, 15, 16],\n",
              "        [16, 17, 18, 19]]], dtype=int32)>"
            ]
          },
          "metadata": {},
          "execution_count": 168
        }
      ]
    },
    {
      "cell_type": "markdown",
      "source": [
        "# Multiheadの実験"
      ],
      "metadata": {
        "id": "XtXecWgWKQ0V"
      }
    },
    {
      "cell_type": "code",
      "source": [
        "hidden_dim = 40\n",
        "head_num = 2"
      ],
      "metadata": {
        "id": "INB2LzItKBV6"
      },
      "execution_count": null,
      "outputs": []
    },
    {
      "cell_type": "code",
      "source": [
        " q_dense_layer = tf.keras.layers.Dense(hidden_dim, use_bias=False, name='q_dense_layer')\n",
        " k_dense_layer = tf.keras.layers.Dense(hidden_dim, use_bias=False, name='k_dense_layer')\n",
        " v_dense_layer = tf.keras.layers.Dense(hidden_dim, use_bias=False, name='v_dense_layer')"
      ],
      "metadata": {
        "id": "KOgAS7mwJ7Xc"
      },
      "execution_count": null,
      "outputs": []
    },
    {
      "cell_type": "code",
      "source": [
        "q = q_dense_layer(sample_query)\n",
        "k = k_dense_layer(sample_key  )\n",
        "v = v_dense_layer(sample_value)"
      ],
      "metadata": {
        "id": "-V208DFFKGoP"
      },
      "execution_count": null,
      "outputs": []
    },
    {
      "cell_type": "code",
      "source": [
        "batch_num, seq_length, enb_dim = tf.unstack(q.shape)"
      ],
      "metadata": {
        "id": "TtkFV0iCKvG4"
      },
      "execution_count": null,
      "outputs": []
    },
    {
      "cell_type": "code",
      "source": [
        "emb_dim_after_split = tf.cast((enb_dim / head_num), tf.int32)"
      ],
      "metadata": {
        "id": "Vk8scOxEKzDP"
      },
      "execution_count": null,
      "outputs": []
    },
    {
      "cell_type": "code",
      "source": [
        "def split_head_dev(tensor_, head_num):\n",
        "  batch_num, seq_length, enb_dim = tf.unstack(tensor_.shape)\n",
        "  emb_dim_after_split = tf.cast((enb_dim / head_num), tf.int32)\n",
        "\n",
        "  tensor_ = tf.transpose(tensor_, perm = [0,2,1])\n",
        "  tensor_ = tf.reshape(tensor_, [batch_num.numpy(), head_num, emb_dim_after_split.numpy() ,seq_length.numpy() ])\n",
        "  return tensor_ # (batch数, head番号, 埋め込み次元, seqの長さ)"
      ],
      "metadata": {
        "id": "n1p7sr08NCkv"
      },
      "execution_count": null,
      "outputs": []
    },
    {
      "cell_type": "code",
      "source": [
        "def unite_head_dev(tensor_,head_num):\n",
        "    batch_num, head_num, emb_dim_after_split, seq_length  = tf.unstack(tensor_.shape)\n",
        "    tensor_ = tf.reshape(tensor_, [batch_num, head_num * emb_dim_after_split, seq_length])\n",
        "    return tf.transpose(tensor_, perm = [0,2,1])"
      ],
      "metadata": {
        "id": "kFm-9laYSSZA"
      },
      "execution_count": null,
      "outputs": []
    },
    {
      "cell_type": "code",
      "source": [
        "q_t = split_head_dev(q, head_num)\n",
        "k_t = split_head_dev(k, head_num)\n",
        "v_t = split_head_dev(v, head_num)"
      ],
      "metadata": {
        "id": "mbw_mkv3NgI5"
      },
      "execution_count": null,
      "outputs": []
    },
    {
      "cell_type": "code",
      "source": [
        "weight= tf.matmul(q_t, k_t, transpose_a = True) #(batch数, head番号, queryのseq数, keyのseq数)"
      ],
      "metadata": {
        "id": "c-vKfHUaNo3c"
      },
      "execution_count": null,
      "outputs": []
    },
    {
      "cell_type": "code",
      "source": [
        "weight.shape"
      ],
      "metadata": {
        "colab": {
          "base_uri": "https://localhost:8080/"
        },
        "id": "dUIAg63AReqO",
        "outputId": "46263f25-85bd-490e-cc5c-560d31a56bf7"
      },
      "execution_count": null,
      "outputs": [
        {
          "output_type": "execute_result",
          "data": {
            "text/plain": [
              "TensorShape([100, 2, 5, 10])"
            ]
          },
          "metadata": {},
          "execution_count": 209
        }
      ]
    },
    {
      "cell_type": "code",
      "source": [
        "v_t.shape"
      ],
      "metadata": {
        "colab": {
          "base_uri": "https://localhost:8080/"
        },
        "id": "F9F5vACORgu6",
        "outputId": "a373c1d0-9808-4f8b-dcdc-b0caed568aed"
      },
      "execution_count": null,
      "outputs": [
        {
          "output_type": "execute_result",
          "data": {
            "text/plain": [
              "TensorShape([100, 2, 20, 10])"
            ]
          },
          "metadata": {},
          "execution_count": 210
        }
      ]
    },
    {
      "cell_type": "code",
      "source": [
        "weighted = tf.matmul(weight, v_t,  transpose_b = True)"
      ],
      "metadata": {
        "id": "kyh-XxT9RFCI"
      },
      "execution_count": null,
      "outputs": []
    },
    {
      "cell_type": "code",
      "source": [
        "weighted"
      ],
      "metadata": {
        "colab": {
          "base_uri": "https://localhost:8080/"
        },
        "id": "hAGOkLVQVPex",
        "outputId": "c836f26c-ec7f-41bb-be0d-9a825f2f82e7"
      },
      "execution_count": null,
      "outputs": [
        {
          "output_type": "execute_result",
          "data": {
            "text/plain": [
              "<tf.Tensor: shape=(100, 2, 5, 20), dtype=float32, numpy=\n",
              "array([[[[  9.770538  ,  -3.5800095 ,  -2.1258507 , ...,   7.591917  ,\n",
              "           -0.75164294,  15.749116  ],\n",
              "         [ 10.106265  ,  -3.5563834 ,  -2.284637  , ...,   7.391276  ,\n",
              "           -1.3087375 ,  16.17132   ],\n",
              "         [  2.1642168 ,  -0.7663706 ,  -1.3313485 , ...,   1.081059  ,\n",
              "           -0.85595787,   3.971943  ],\n",
              "         [ 10.933224  ,  -3.9258358 ,  -2.319636  , ...,   8.9402895 ,\n",
              "           -0.49945652,  17.204584  ],\n",
              "         [  7.4112034 ,  -2.6208947 ,  -1.8119187 , ...,   5.8800883 ,\n",
              "           -0.3742365 ,  12.020581  ]],\n",
              "\n",
              "        [[  1.313606  ,   0.3150173 ,  -1.6817917 , ...,  -1.3453654 ,\n",
              "           -0.72953117,  -1.2131183 ],\n",
              "         [ -1.9180024 ,  -0.10385267,   3.4488947 , ...,   1.8027523 ,\n",
              "            0.556754  ,   1.9358432 ],\n",
              "         [  1.422888  ,   0.08286929,  -1.3156557 , ...,  -1.8121426 ,\n",
              "           -1.0511608 ,  -1.3319492 ],\n",
              "         [ -3.818559  ,   0.10660833,   6.007265  , ...,   2.95513   ,\n",
              "            1.4284697 ,   3.1551723 ],\n",
              "         [  1.0658456 ,   0.10396387,  -1.492346  , ...,  -1.1558594 ,\n",
              "           -0.44018918,  -0.864928  ]]],\n",
              "\n",
              "\n",
              "       [[[  7.428206  ,  -2.9152405 ,  -0.04073223, ...,   4.487857  ,\n",
              "           -0.6617933 ,   4.4961452 ],\n",
              "         [  6.2751665 ,  -2.3684754 ,  -0.4552346 , ...,   3.4288597 ,\n",
              "           -0.1983737 ,   3.9756784 ],\n",
              "         [ -1.8449337 ,   0.33768266,  -0.31626207, ...,  -1.171788  ,\n",
              "            0.21542111,  -2.6998153 ],\n",
              "         [  7.8004756 ,  -2.8890822 ,  -0.34378248, ...,   4.758529  ,\n",
              "           -0.54313135,   6.0972486 ],\n",
              "         [  7.9237027 ,  -2.903154  ,  -0.5179316 , ...,   4.7978683 ,\n",
              "           -0.5594439 ,   5.875994  ]],\n",
              "\n",
              "        [[  0.03618327,   0.95485103,   1.2823256 , ...,   1.2674097 ,\n",
              "           -0.42886236,   0.66200274],\n",
              "         [  1.147738  ,  -0.04741615,  -0.02988377, ...,  -0.30082458,\n",
              "           -0.71086425,  -1.1372238 ],\n",
              "         [  7.655473  ,  -1.1178467 ,  -9.4330015 , ...,  -5.2715816 ,\n",
              "           -4.2512627 ,  -7.874365  ],\n",
              "         [  1.8001311 ,   0.7819601 ,  -1.5638272 , ...,  -0.39803684,\n",
              "           -1.4460703 ,  -1.9226573 ],\n",
              "         [  0.8155174 ,   0.4887172 ,  -1.1106076 , ...,  -0.09080029,\n",
              "           -0.67989993,  -1.1398584 ]]],\n",
              "\n",
              "\n",
              "       [[[  3.6229758 ,  -1.472701  ,   1.5228176 , ...,   1.954335  ,\n",
              "           -0.02289963,   4.44693   ],\n",
              "         [ 12.636988  ,  -3.2242303 ,   1.9250307 , ...,   9.314817  ,\n",
              "           -0.7657311 ,  12.627892  ],\n",
              "         [  3.6697168 ,  -0.67221326,   1.4385405 , ...,   2.0059254 ,\n",
              "            0.01847243,   4.047743  ],\n",
              "         [  7.9335604 ,  -2.3574195 ,   1.9909563 , ...,   5.167542  ,\n",
              "           -0.3447104 ,   7.9589977 ],\n",
              "         [  7.470125  ,  -1.4391158 ,   2.0223494 , ...,   4.729947  ,\n",
              "            0.09095621,   7.6100135 ]],\n",
              "\n",
              "        [[  7.0178275 ,  -2.1529293 ,  -5.7021885 , ...,  -3.2865806 ,\n",
              "           -3.483018  ,  -6.183698  ],\n",
              "         [  5.6183267 ,  -1.9056621 ,  -4.2439356 , ...,  -1.9127322 ,\n",
              "           -1.960672  ,  -4.637307  ],\n",
              "         [  4.137663  ,  -1.1348225 ,  -2.785159  , ...,  -1.8794589 ,\n",
              "           -1.618545  ,  -3.4553118 ],\n",
              "         [  1.8001978 ,  -0.9841669 ,  -0.7219231 , ...,  -1.0770048 ,\n",
              "           -1.004489  ,  -1.4472218 ],\n",
              "         [  2.8020911 ,  -1.010176  ,  -1.6648588 , ...,  -1.4052516 ,\n",
              "           -2.203216  ,  -3.3224242 ]]],\n",
              "\n",
              "\n",
              "       ...,\n",
              "\n",
              "\n",
              "       [[[  4.478887  ,  -0.5175289 ,  -0.68168545, ...,   2.6665046 ,\n",
              "            1.0691751 ,   4.137819  ],\n",
              "         [  1.8378083 ,   0.35375834,  -0.44752744, ...,   0.6806222 ,\n",
              "            1.0634577 ,   0.30057472],\n",
              "         [ -0.16344993,   0.8578676 ,   0.15753496, ...,  -0.46891183,\n",
              "            0.5830499 ,  -2.0805058 ],\n",
              "         [  2.5792515 ,  -0.12195449,  -0.12663676, ...,   1.555824  ,\n",
              "            0.97659844,   2.14153   ],\n",
              "         [  7.8587294 ,  -1.235554  ,  -1.0369886 , ...,   4.438813  ,\n",
              "            1.9422679 ,   8.256958  ]],\n",
              "\n",
              "        [[  3.0658464 ,   1.1823158 ,  -4.171135  , ...,  -2.8605344 ,\n",
              "           -2.1783378 ,  -4.9995785 ],\n",
              "         [  4.589532  ,   0.4123485 ,  -6.054409  , ...,  -4.5519805 ,\n",
              "           -2.8595417 ,  -6.3834667 ],\n",
              "         [  4.104432  ,   0.51668847,  -5.393049  , ...,  -3.9048386 ,\n",
              "           -2.1077664 ,  -4.8417687 ],\n",
              "         [  3.364811  ,   0.14453614,  -4.850859  , ...,  -3.6715372 ,\n",
              "           -2.2305079 ,  -4.8579803 ],\n",
              "         [  0.9407963 ,   0.2384501 ,  -0.9060537 , ...,  -0.7399836 ,\n",
              "           -0.52701783,  -1.1035142 ]]],\n",
              "\n",
              "\n",
              "       [[[ -0.49017778,  -0.32007247,  -0.40493685, ...,   0.8129357 ,\n",
              "           -0.07170091,  -0.14248022],\n",
              "         [ -2.633952  ,   0.46353066,  -0.21387671, ...,  -1.0726534 ,\n",
              "            0.09413876,  -2.5779183 ],\n",
              "         [ -0.5185659 ,  -0.29052436,   0.3407506 , ...,   0.18847585,\n",
              "           -0.15305272,   0.05384815],\n",
              "         [  3.158931  ,  -1.9573803 ,   0.5325876 , ...,   3.474577  ,\n",
              "           -0.4745846 ,   4.85008   ],\n",
              "         [  1.752065  ,  -1.0992604 ,   0.41208482, ...,   1.9081925 ,\n",
              "           -0.3480111 ,   2.93187   ]],\n",
              "\n",
              "        [[ -2.1320572 ,  -0.2656139 ,   3.057107  , ...,   1.949032  ,\n",
              "            1.4844849 ,   3.0008075 ],\n",
              "         [  0.71299136,   0.07342724,  -1.5910745 , ...,  -0.11011042,\n",
              "           -0.34302723,  -0.80460835],\n",
              "         [  8.216324  ,   1.202898  , -15.250656  , ...,  -6.2612543 ,\n",
              "           -4.770563  , -11.197211  ],\n",
              "         [  1.054252  ,  -0.31005964,  -1.9994341 , ...,   0.10465483,\n",
              "           -0.50988984,  -0.7646151 ],\n",
              "         [  2.0341232 ,   0.3501917 ,  -4.3108745 , ...,  -1.8026338 ,\n",
              "           -1.2944729 ,  -3.5404367 ]]],\n",
              "\n",
              "\n",
              "       [[[  3.167534  ,   0.15600592,   1.0922074 , ...,   0.9079683 ,\n",
              "            0.7236436 ,   2.4868593 ],\n",
              "         [  3.153813  ,  -0.08253491,   1.0250616 , ...,   1.4335606 ,\n",
              "            0.65476644,   3.041658  ],\n",
              "         [  6.1321654 ,  -0.6743575 ,   0.801859  , ...,   3.073237  ,\n",
              "            1.0249104 ,   5.0952067 ],\n",
              "         [  8.153374  ,  -1.2509141 ,   1.7739921 , ...,   3.6932445 ,\n",
              "            1.3076918 ,   7.0123906 ],\n",
              "         [  5.7611933 ,  -1.2311502 ,   1.0255105 , ...,   2.2829416 ,\n",
              "            0.82993364,   4.7616568 ]],\n",
              "\n",
              "        [[  1.8160896 ,  -0.09201786,  -2.4230487 , ...,  -0.71501625,\n",
              "           -1.0428737 ,  -1.2288682 ],\n",
              "         [  4.2646685 ,  -1.191937  ,  -6.242353  , ...,  -1.9340936 ,\n",
              "           -2.7061362 ,  -4.57399   ],\n",
              "         [  2.6128316 ,  -0.27805597,  -3.9296832 , ...,  -1.1021765 ,\n",
              "           -1.679748  ,  -2.4701338 ],\n",
              "         [  4.9639997 ,  -0.6917098 ,  -6.205491  , ...,  -2.5318265 ,\n",
              "           -2.8773077 ,  -5.3155084 ],\n",
              "         [  7.430408  ,  -1.1183236 , -10.429765  , ...,  -3.9127665 ,\n",
              "           -4.636427  ,  -7.880658  ]]]], dtype=float32)>"
            ]
          },
          "metadata": {},
          "execution_count": 231
        }
      ]
    },
    {
      "cell_type": "code",
      "source": [
        "unite_head_dev(weighted, head_num)"
      ],
      "metadata": {
        "colab": {
          "base_uri": "https://localhost:8080/"
        },
        "id": "MLlW5NdlSHkL",
        "outputId": "9ca9d0ea-6c9c-4635-ed37-2e2ac1ec5ea8"
      },
      "execution_count": null,
      "outputs": [
        {
          "output_type": "execute_result",
          "data": {
            "text/plain": [
              "<tf.Tensor: shape=(100, 5, 40), dtype=float32, numpy=\n",
              "array([[[  9.770539  ,  -3.5800092 ,  -2.1258504 , ...,  -1.3453654 ,\n",
              "          -0.72953117,  -1.2131183 ],\n",
              "        [ 10.106265  ,  -3.5563834 ,  -2.284637  , ...,   1.8027523 ,\n",
              "           0.556754  ,   1.9358432 ],\n",
              "        [  2.1642168 ,  -0.76637065,  -1.3313485 , ...,  -1.8121426 ,\n",
              "          -1.0511608 ,  -1.3319492 ],\n",
              "        [ 10.933224  ,  -3.9258356 ,  -2.3196359 , ...,   2.95513   ,\n",
              "           1.4284697 ,   3.1551723 ],\n",
              "        [  7.4112034 ,  -2.6208947 ,  -1.8119187 , ...,  -1.1558592 ,\n",
              "          -0.44018915,  -0.8649281 ]],\n",
              "\n",
              "       [[  7.428206  ,  -2.9152408 ,  -0.04073229, ...,   1.2674097 ,\n",
              "          -0.42886236,   0.66200274],\n",
              "        [  6.2751665 ,  -2.3684757 ,  -0.45523453, ...,  -0.30082458,\n",
              "          -0.71086425,  -1.1372238 ],\n",
              "        [ -1.844934  ,   0.33768263,  -0.31626213, ...,  -5.2715816 ,\n",
              "          -4.2512627 ,  -7.874365  ],\n",
              "        [  7.800476  ,  -2.8890824 ,  -0.34378242, ...,  -0.39803684,\n",
              "          -1.4460703 ,  -1.9226573 ],\n",
              "        [  7.923703  ,  -2.903154  ,  -0.5179316 , ...,  -0.0908002 ,\n",
              "          -0.6798999 ,  -1.1398582 ]],\n",
              "\n",
              "       [[  3.6229758 ,  -1.472701  ,   1.5228175 , ...,  -3.2865806 ,\n",
              "          -3.483018  ,  -6.183698  ],\n",
              "        [ 12.636988  ,  -3.2242305 ,   1.9250307 , ...,  -1.9127322 ,\n",
              "          -1.960672  ,  -4.637307  ],\n",
              "        [  3.6697164 ,  -0.67221326,   1.4385406 , ...,  -1.8794589 ,\n",
              "          -1.618545  ,  -3.4553118 ],\n",
              "        [  7.9335604 ,  -2.3574195 ,   1.9909563 , ...,  -1.0770048 ,\n",
              "          -1.004489  ,  -1.4472218 ],\n",
              "        [  7.470125  ,  -1.4391159 ,   2.0223496 , ...,  -1.4052515 ,\n",
              "          -2.2032158 ,  -3.3224242 ]],\n",
              "\n",
              "       ...,\n",
              "\n",
              "       [[  4.4788876 ,  -0.51752895,  -0.6816855 , ...,  -2.8605344 ,\n",
              "          -2.1783378 ,  -4.9995785 ],\n",
              "        [  1.8378083 ,   0.3537584 ,  -0.44752744, ...,  -4.5519805 ,\n",
              "          -2.8595417 ,  -6.3834667 ],\n",
              "        [ -0.16344993,   0.85786766,   0.15753497, ...,  -3.9048386 ,\n",
              "          -2.1077664 ,  -4.8417687 ],\n",
              "        [  2.579252  ,  -0.12195446,  -0.12663667, ...,  -3.6715372 ,\n",
              "          -2.2305079 ,  -4.8579803 ],\n",
              "        [  7.8587294 ,  -1.235554  ,  -1.0369886 , ...,  -0.7399836 ,\n",
              "          -0.52701783,  -1.1035142 ]],\n",
              "\n",
              "       [[ -0.49017772,  -0.32007247,  -0.40493685, ...,   1.949032  ,\n",
              "           1.4844849 ,   3.0008075 ],\n",
              "        [ -2.633952  ,   0.46353063,  -0.21387668, ...,  -0.11011042,\n",
              "          -0.34302723,  -0.80460835],\n",
              "        [ -0.5185659 ,  -0.29052436,   0.34075055, ...,  -6.2612543 ,\n",
              "          -4.770563  , -11.197211  ],\n",
              "        [  3.1589313 ,  -1.9573802 ,   0.5325876 , ...,   0.10465483,\n",
              "          -0.50988984,  -0.7646151 ],\n",
              "        [  1.752065  ,  -1.0992606 ,   0.41208485, ...,  -1.8026335 ,\n",
              "          -1.2944728 ,  -3.5404367 ]],\n",
              "\n",
              "       [[  3.167534  ,   0.15600592,   1.0922074 , ...,  -0.71501625,\n",
              "          -1.0428737 ,  -1.2288682 ],\n",
              "        [  3.153813  ,  -0.08253497,   1.0250616 , ...,  -1.9340936 ,\n",
              "          -2.7061362 ,  -4.57399   ],\n",
              "        [  6.1321654 ,  -0.6743574 ,   0.8018589 , ...,  -1.1021765 ,\n",
              "          -1.679748  ,  -2.4701338 ],\n",
              "        [  8.153373  ,  -1.2509141 ,   1.773992  , ...,  -2.5318265 ,\n",
              "          -2.8773077 ,  -5.3155084 ],\n",
              "        [  5.7611933 ,  -1.2311502 ,   1.0255105 , ...,  -3.912766  ,\n",
              "          -4.636427  ,  -7.880658  ]]], dtype=float32)>"
            ]
          },
          "metadata": {},
          "execution_count": 223
        }
      ]
    },
    {
      "cell_type": "markdown",
      "source": [
        "# multihead att"
      ],
      "metadata": {
        "id": "tMdu6o5HOFPC"
      }
    },
    {
      "cell_type": "code",
      "source": [
        "class MultiHeadAttention(tf.keras.layers.Layer):\n",
        "  def __init__(self, hidden_dim, head_num, dropout_rate):\n",
        "    super().__init__()\n",
        "    #self.hidden_dim   = hidden_dim\n",
        "    self.head_num     = head_num\n",
        "    self.dropout_rate = dropout_rate\n",
        "\n",
        "    self.q_dense_layer = tf.keras.layers.Dense(hidden_dim, use_bias=False, name='q_dense_layer' ,activation = \"relu\")\n",
        "    self.k_dense_layer = tf.keras.layers.Dense(hidden_dim, use_bias=False, name='k_dense_layer' ,activation = \"relu\")\n",
        "    self.v_dense_layer = tf.keras.layers.Dense(hidden_dim, use_bias=False, name='v_dense_layer' ,activation = \"relu\")\n",
        "    self.output_dense_layer = tf.keras.layers.Dense(hidden_dim, use_bias=False, name='output_dense_layer')\n",
        "    self.attention_dropout_layer = tf.keras.layers.Dropout(dropout_rate)\n",
        "\n",
        "  def split_head(self, tensor_):\n",
        "    # split後の情報をまとめる。\n",
        "    batch_num, seq_length, enb_dim = tf.unstack(tensor_.shape)\n",
        "\n",
        "    emb_dim_after_split = tf.cast((enb_dim / self.head_num), tf.int32)\n",
        "    tensor_ = tf.transpose(tensor_, perm = [0,2,1])\n",
        "\n",
        "    return tf.reshape(tensor_, [batch_num.numpy(), self.head_num, emb_dim_after_split.numpy(), seq_length.numpy()]), emb_dim_after_split.numpy()\n",
        "\n",
        "  def unite_head(self, tensor_):\n",
        "    batch_num, head_num, emb_dim_after_split, seq_length = tf.unstack(tensor_.shape)\n",
        "    tensor_ =  tf.reshape(tensor_, [batch_num, head_num * emb_dim_after_split, seq_length])\n",
        "\n",
        "    return tf.transpose(tensor_, perm = [0,2,1])\n",
        "\n",
        "  def call(self, key, query, value):\n",
        "\n",
        "    key   = self.k_dense_layer(key  ) #(batch_size, seq_length, emb_dim)\n",
        "    query = self.q_dense_layer(query) #(batch_size, seq_length, emb_dim)\n",
        "    value = self.v_dense_layer(value) #(batch_size, seq_length, emb_dim)\n",
        "\n",
        "    key   , emb_dim_key   = self.split_head(key)\n",
        "    query , emb_dim_query = self.split_head(query)\n",
        "    value , emb_dim_value = self.split_head(value)\n",
        "\n",
        "\n",
        "    att_weight = tf.nn.softmax(tf.matmul(query, key, transpose_a = True) / emb_dim_key**0.5 )\n",
        "    att_weight = self.attention_dropout_layer(att_weight)\n",
        "\n",
        "    weighted= tf.matmul(value, att_weight)\n",
        "\n",
        "    # add / norm\n",
        "    return self.output_dense_layer(self.unite_head(weighted))\n",
        "    #return key, att_weight,value \n",
        "    "
      ],
      "metadata": {
        "id": "Ux5-NKgXNuur"
      },
      "execution_count": 40,
      "outputs": []
    },
    {
      "cell_type": "code",
      "source": [
        "att = MultiHeadAttention(40, 5, 0.9)"
      ],
      "metadata": {
        "id": "aClPIvzjZrAd"
      },
      "execution_count": 41,
      "outputs": []
    },
    {
      "cell_type": "code",
      "source": [
        "res = att(sample_key,sample_query, sample_query)"
      ],
      "metadata": {
        "id": "23E_QGddZ0Je"
      },
      "execution_count": 42,
      "outputs": []
    },
    {
      "cell_type": "code",
      "source": [
        "res"
      ],
      "metadata": {
        "id": "r4_1u4_UaEZh"
      },
      "execution_count": null,
      "outputs": []
    },
    {
      "cell_type": "markdown",
      "source": [
        "# Set transformer"
      ],
      "metadata": {
        "id": "NozTOqHzW6TU"
      }
    },
    {
      "cell_type": "code",
      "source": [
        "\"\"\"\n",
        "MAB(X, Y ) = LayerNorm(H + rFF(H)), (6)\n",
        "where H = LayerNorm(X + Multihead(X, Y, Y ; ω)),(7)\n",
        "\"\"\"\n",
        "class MAB(tf.keras.layers.Layer):\n",
        "  def __init__(self, hidden_dim, head_num, dropout_rate):\n",
        "    super().__init__()\n",
        "    self.hidden_dim   = hidden_dim\n",
        "    self.head_num     = head_num\n",
        "    self.dropout_rate = dropout_rate\n",
        "\n",
        "\n",
        "    self.att = MultiHeadAttention( hidden_dim, head_num, dropout_rate)\n",
        "    self.dense_1 = tf.keras.layers.Dense(hidden_dim, use_bias=False,activation = \"relu\")\n",
        "    self.dense_2 = tf.keras.layers.Dense(hidden_dim, use_bias=False,activation = \"relu\")\n",
        "\n",
        "    self.norm    = tf.keras.layers.Normalization(-1)\n",
        "\n",
        "  def call(self, x, y):\n",
        "    \n",
        "    mab_xy = self.att(x, y, y)\n",
        "    h = self.norm(mab_xy + x)\n",
        "\n",
        "    h_rff = self.dense_2(self.dense_1( h ))\n",
        "\n",
        "\n",
        "    return self.norm(h + h_rff)\n",
        "\n"
      ],
      "metadata": {
        "id": "YQ0NzKU_Z82f"
      },
      "execution_count": 92,
      "outputs": []
    },
    {
      "cell_type": "code",
      "source": [
        "mab = MAB(40, 5, 0.9)"
      ],
      "metadata": {
        "id": "tU3JJV9gcb6p"
      },
      "execution_count": 93,
      "outputs": []
    },
    {
      "cell_type": "code",
      "source": [
        "mab(sample_key,sample_query)"
      ],
      "metadata": {
        "id": "HMaRNfpOdnQh"
      },
      "execution_count": null,
      "outputs": []
    },
    {
      "cell_type": "code",
      "source": [
        "# SAB(X) := MAB(X, X).\n",
        "class SAB(tf.keras.layers.Layer):\n",
        "  def __init__(self, hidden_dim, head_num, dropout_rate):\n",
        "    super().__init__()\n",
        "    self.hidden_dim   = hidden_dim\n",
        "    self.head_num     = head_num\n",
        "    self.dropout_rate = dropout_rate\n",
        "\n",
        "    self.mab = MAB(hidden_dim, head_num, dropout_rate)\n",
        "\n",
        "  \n",
        "  def call(self, x):  \n",
        "\n",
        "\n",
        "    return self.mab(x, x)\n",
        "\n",
        "\n"
      ],
      "metadata": {
        "id": "ub51N0vFfuDh"
      },
      "execution_count": 95,
      "outputs": []
    },
    {
      "cell_type": "code",
      "source": [
        "sab = SAB(40, 5, 0.9)"
      ],
      "metadata": {
        "id": "um6GvmGvjto1"
      },
      "execution_count": 96,
      "outputs": []
    },
    {
      "cell_type": "code",
      "source": [
        "#PMAk(Z) = MAB(S,rFF(Z)) ∈ R\n",
        "# k = 1で実装\n",
        "class PMA(tf.keras.layers.Layer):\n",
        "  def __init__(self, hidden_dim, head_num, dropout_rate, k):\n",
        "    super().__init__()\n",
        "    #self.batch_size   = batch_size\n",
        "    self.hidden_dim   = hidden_dim\n",
        "    self.head_num     = head_num\n",
        "    self.dropout_rate = dropout_rate\n",
        "    self.k = k\n",
        "    \n",
        "    self.dense_1 = tf.keras.layers.Dense(hidden_dim, use_bias=False,activation= \"relu\")\n",
        "    self.dense_2 = tf.keras.layers.Dense(hidden_dim, use_bias=False,activation= \"relu\")\n",
        "    self.dense_s = tf.keras.layers.Dense(hidden_dim, use_bias=False,activation= \"relu\")\n",
        "\n",
        "    self.mab = MAB(hidden_dim, head_num, dropout_rate)\n",
        "    self.seed_vectors = tf.random.uniform(shape=(1, k, hidden_dim), minval = 0.0, maxval = 1.0)\n",
        "\n",
        "  def call(self, input):  \n",
        "    #s = tf.repeat(self.seed_vectors , repeats = int( input.shape[1] / self.k ), axis = 1)\n",
        "    \n",
        "    batch_num, seq_length, enb_dim = tf.unstack(input.shape)\n",
        "    s = tf.repeat(self.seed_vectors , repeats = batch_num, axis = 0)\n",
        "    \n",
        "    \n",
        "    rff_z = self.dense_2(self.dense_1(input))\n",
        "    s = self.dense_s(self.seed_vectors)\n",
        "\n",
        "    res = self.mab(s, rff_z)\n",
        "    return tf.reshape(res, [batch_num, self.hidden_dim])\n",
        "    #return self.seed_vectors, rff_z"
      ],
      "metadata": {
        "id": "4qUMDowW0ZkK"
      },
      "execution_count": 153,
      "outputs": []
    },
    {
      "cell_type": "code",
      "source": [
        "pma = PMA(40, 8, 0.9, 1)"
      ],
      "metadata": {
        "id": "oWq6iTlVdIVX"
      },
      "execution_count": 154,
      "outputs": []
    },
    {
      "cell_type": "code",
      "source": [
        "res = pma(sample_key)"
      ],
      "metadata": {
        "id": "2fSmEv5GeLfe"
      },
      "execution_count": 99,
      "outputs": []
    },
    {
      "cell_type": "code",
      "source": [
        "res"
      ],
      "metadata": {
        "id": "422PgqG8rqHz"
      },
      "execution_count": null,
      "outputs": []
    },
    {
      "cell_type": "code",
      "source": [
        "class SetTransformer(tf.keras.Model):\n",
        "  def __init__(self, hidden_dim, head_num, dropout_rate, k, output_shape):\n",
        "    super().__init__()\n",
        "    #self.batch_size   = batch_size\n",
        "    self.hidden_dim   = hidden_dim\n",
        "    self.head_num     = head_num\n",
        "    self.dropout_rate = dropout_rate\n",
        "    self.k = k\n",
        "    \n",
        "    self.sab_1 = SAB(hidden_dim, head_num, dropout_rate)\n",
        "    self.sab_2 = SAB(hidden_dim, head_num, dropout_rate)\n",
        "\n",
        "    self.pma = PMA(hidden_dim, head_num, dropout_rate, k)\n",
        "\n",
        "    self.dense_1 = tf.keras.layers.Dense(output_shape, use_bias=False )\n",
        "\n",
        "  def call(self, input): \n",
        "    enc_output = self.sab_2(self.sab_1(input))\n",
        "\n",
        "    #return self.pma(enc_output)\n",
        "    return self.dense_1(self.pma(enc_output))"
      ],
      "metadata": {
        "id": "cwgG1RNseRI9"
      },
      "execution_count": 222,
      "outputs": []
    },
    {
      "cell_type": "code",
      "source": [
        "stf = SetTransformer(40, 8, 0.9, 1, 1)"
      ],
      "metadata": {
        "id": "G7TIZimCqzyx"
      },
      "execution_count": 223,
      "outputs": []
    },
    {
      "cell_type": "markdown",
      "source": [
        "# 実験"
      ],
      "metadata": {
        "id": "YGFZv0AfntM1"
      }
    },
    {
      "cell_type": "markdown",
      "source": [
        "20次元のベクトルのノルムを求める"
      ],
      "metadata": {
        "id": "J50x9gKcoSqa"
      }
    },
    {
      "cell_type": "code",
      "source": [
        "data = np.random.rand(10000, 10,10)"
      ],
      "metadata": {
        "id": "otUevf3ehR4N"
      },
      "execution_count": 224,
      "outputs": []
    },
    {
      "cell_type": "code",
      "source": [
        "max_ = np.linalg.norm( np.array([10,10,10,10,10,10,10,10,10,10 ]) )"
      ],
      "metadata": {
        "id": "nvBkV7uQpga5"
      },
      "execution_count": 225,
      "outputs": []
    },
    {
      "cell_type": "code",
      "source": [
        "ans = np.linalg.norm( np.sum(data, axis = 1),axis = 1) / max_"
      ],
      "metadata": {
        "id": "w7JmWkGWpA6c"
      },
      "execution_count": 226,
      "outputs": []
    },
    {
      "cell_type": "code",
      "source": [
        "dataset = tf.data.Dataset.from_tensor_slices({\"data\":data, \"ans\":ans} )"
      ],
      "metadata": {
        "id": "LxBDEdpbpXmn"
      },
      "execution_count": 227,
      "outputs": []
    },
    {
      "cell_type": "code",
      "source": [
        "model = SetTransformer(10, 2, 0.9, 1, 1)"
      ],
      "metadata": {
        "id": "iNOQlKojtlgv"
      },
      "execution_count": 228,
      "outputs": []
    },
    {
      "cell_type": "code",
      "source": [
        "opt = tf.keras.optimizers.experimental.SGD(learning_rate=0.01)\n",
        "mae = tf.keras.losses.MeanAbsoluteError()\n",
        "for epoch in range(30):\n",
        "  total_loss = 0\n",
        "  cnt = 0\n",
        "  # Training loop - using batches of 32\n",
        "  for num, d in enumerate(dataset.batch(10)):\n",
        "    with tf.GradientTape() as tape:\n",
        "      outputs = model(d[\"data\"])\n",
        "      loss = tf.reduce_mean( mae(d[\"ans\"], outputs) )\n",
        "    gradients = tape.gradient(loss, model.trainable_variables)\n",
        "\n",
        "    opt.apply_gradients(zip(gradients, model.trainable_variables))\n",
        "    total_loss += loss\n",
        "    cnt += 1\n",
        "  print(\"epoch = {}, num = {},loss = {}\".format(epoch, num, total_loss / cnt))"
      ],
      "metadata": {
        "colab": {
          "base_uri": "https://localhost:8080/",
          "height": 531
        },
        "id": "NqFxM4Qzp3kQ",
        "outputId": "a99b2647-8809-4b08-f8e7-88f10285265a"
      },
      "execution_count": 229,
      "outputs": [
        {
          "output_type": "stream",
          "name": "stdout",
          "text": [
            "epoch = 0, num = 999,loss = 0.06303281337022781\n",
            "epoch = 1, num = 999,loss = 0.03308391198515892\n",
            "epoch = 2, num = 999,loss = 0.02248024381697178\n",
            "epoch = 3, num = 999,loss = 0.020442595705389977\n",
            "epoch = 4, num = 999,loss = 0.019643640145659447\n",
            "epoch = 5, num = 999,loss = 0.01943448930978775\n",
            "epoch = 6, num = 999,loss = 0.01924673467874527\n"
          ]
        },
        {
          "output_type": "error",
          "ename": "KeyboardInterrupt",
          "evalue": "ignored",
          "traceback": [
            "\u001b[0;31m---------------------------------------------------------------------------\u001b[0m",
            "\u001b[0;31mKeyboardInterrupt\u001b[0m                         Traceback (most recent call last)",
            "\u001b[0;32m<ipython-input-229-892dfedd35ea>\u001b[0m in \u001b[0;36m<module>\u001b[0;34m\u001b[0m\n\u001b[1;32m      7\u001b[0m   \u001b[0;32mfor\u001b[0m \u001b[0mnum\u001b[0m\u001b[0;34m,\u001b[0m \u001b[0md\u001b[0m \u001b[0;32min\u001b[0m \u001b[0menumerate\u001b[0m\u001b[0;34m(\u001b[0m\u001b[0mdataset\u001b[0m\u001b[0;34m.\u001b[0m\u001b[0mbatch\u001b[0m\u001b[0;34m(\u001b[0m\u001b[0;36m10\u001b[0m\u001b[0;34m)\u001b[0m\u001b[0;34m)\u001b[0m\u001b[0;34m:\u001b[0m\u001b[0;34m\u001b[0m\u001b[0;34m\u001b[0m\u001b[0m\n\u001b[1;32m      8\u001b[0m     \u001b[0;32mwith\u001b[0m \u001b[0mtf\u001b[0m\u001b[0;34m.\u001b[0m\u001b[0mGradientTape\u001b[0m\u001b[0;34m(\u001b[0m\u001b[0;34m)\u001b[0m \u001b[0;32mas\u001b[0m \u001b[0mtape\u001b[0m\u001b[0;34m:\u001b[0m\u001b[0;34m\u001b[0m\u001b[0;34m\u001b[0m\u001b[0m\n\u001b[0;32m----> 9\u001b[0;31m       \u001b[0moutputs\u001b[0m \u001b[0;34m=\u001b[0m \u001b[0mmodel\u001b[0m\u001b[0;34m(\u001b[0m\u001b[0md\u001b[0m\u001b[0;34m[\u001b[0m\u001b[0;34m\"data\"\u001b[0m\u001b[0;34m]\u001b[0m\u001b[0;34m)\u001b[0m\u001b[0;34m\u001b[0m\u001b[0;34m\u001b[0m\u001b[0m\n\u001b[0m\u001b[1;32m     10\u001b[0m       \u001b[0mloss\u001b[0m \u001b[0;34m=\u001b[0m \u001b[0mtf\u001b[0m\u001b[0;34m.\u001b[0m\u001b[0mreduce_mean\u001b[0m\u001b[0;34m(\u001b[0m \u001b[0mmae\u001b[0m\u001b[0;34m(\u001b[0m\u001b[0md\u001b[0m\u001b[0;34m[\u001b[0m\u001b[0;34m\"ans\"\u001b[0m\u001b[0;34m]\u001b[0m\u001b[0;34m,\u001b[0m \u001b[0moutputs\u001b[0m\u001b[0;34m)\u001b[0m \u001b[0;34m)\u001b[0m\u001b[0;34m\u001b[0m\u001b[0;34m\u001b[0m\u001b[0m\n\u001b[1;32m     11\u001b[0m     \u001b[0mgradients\u001b[0m \u001b[0;34m=\u001b[0m \u001b[0mtape\u001b[0m\u001b[0;34m.\u001b[0m\u001b[0mgradient\u001b[0m\u001b[0;34m(\u001b[0m\u001b[0mloss\u001b[0m\u001b[0;34m,\u001b[0m \u001b[0mmodel\u001b[0m\u001b[0;34m.\u001b[0m\u001b[0mtrainable_variables\u001b[0m\u001b[0;34m)\u001b[0m\u001b[0;34m\u001b[0m\u001b[0;34m\u001b[0m\u001b[0m\n",
            "\u001b[0;32m/usr/local/lib/python3.8/dist-packages/keras/utils/traceback_utils.py\u001b[0m in \u001b[0;36merror_handler\u001b[0;34m(*args, **kwargs)\u001b[0m\n\u001b[1;32m     62\u001b[0m     \u001b[0mfiltered_tb\u001b[0m \u001b[0;34m=\u001b[0m \u001b[0;32mNone\u001b[0m\u001b[0;34m\u001b[0m\u001b[0;34m\u001b[0m\u001b[0m\n\u001b[1;32m     63\u001b[0m     \u001b[0;32mtry\u001b[0m\u001b[0;34m:\u001b[0m\u001b[0;34m\u001b[0m\u001b[0;34m\u001b[0m\u001b[0m\n\u001b[0;32m---> 64\u001b[0;31m       \u001b[0;32mreturn\u001b[0m \u001b[0mfn\u001b[0m\u001b[0;34m(\u001b[0m\u001b[0;34m*\u001b[0m\u001b[0margs\u001b[0m\u001b[0;34m,\u001b[0m \u001b[0;34m**\u001b[0m\u001b[0mkwargs\u001b[0m\u001b[0;34m)\u001b[0m\u001b[0;34m\u001b[0m\u001b[0;34m\u001b[0m\u001b[0m\n\u001b[0m\u001b[1;32m     65\u001b[0m     \u001b[0;32mexcept\u001b[0m \u001b[0mException\u001b[0m \u001b[0;32mas\u001b[0m \u001b[0me\u001b[0m\u001b[0;34m:\u001b[0m  \u001b[0;31m# pylint: disable=broad-except\u001b[0m\u001b[0;34m\u001b[0m\u001b[0;34m\u001b[0m\u001b[0m\n\u001b[1;32m     66\u001b[0m       \u001b[0mfiltered_tb\u001b[0m \u001b[0;34m=\u001b[0m \u001b[0m_process_traceback_frames\u001b[0m\u001b[0;34m(\u001b[0m\u001b[0me\u001b[0m\u001b[0;34m.\u001b[0m\u001b[0m__traceback__\u001b[0m\u001b[0;34m)\u001b[0m\u001b[0;34m\u001b[0m\u001b[0;34m\u001b[0m\u001b[0m\n",
            "\u001b[0;32m/usr/local/lib/python3.8/dist-packages/keras/engine/training.py\u001b[0m in \u001b[0;36m__call__\u001b[0;34m(self, *args, **kwargs)\u001b[0m\n\u001b[1;32m    488\u001b[0m       \u001b[0mlayout_map_lib\u001b[0m\u001b[0;34m.\u001b[0m\u001b[0m_map_subclass_model_variable\u001b[0m\u001b[0;34m(\u001b[0m\u001b[0mself\u001b[0m\u001b[0;34m,\u001b[0m \u001b[0mself\u001b[0m\u001b[0;34m.\u001b[0m\u001b[0m_layout_map\u001b[0m\u001b[0;34m)\u001b[0m\u001b[0;34m\u001b[0m\u001b[0;34m\u001b[0m\u001b[0m\n\u001b[1;32m    489\u001b[0m \u001b[0;34m\u001b[0m\u001b[0m\n\u001b[0;32m--> 490\u001b[0;31m     \u001b[0;32mreturn\u001b[0m \u001b[0msuper\u001b[0m\u001b[0;34m(\u001b[0m\u001b[0;34m)\u001b[0m\u001b[0;34m.\u001b[0m\u001b[0m__call__\u001b[0m\u001b[0;34m(\u001b[0m\u001b[0;34m*\u001b[0m\u001b[0margs\u001b[0m\u001b[0;34m,\u001b[0m \u001b[0;34m**\u001b[0m\u001b[0mkwargs\u001b[0m\u001b[0;34m)\u001b[0m\u001b[0;34m\u001b[0m\u001b[0;34m\u001b[0m\u001b[0m\n\u001b[0m\u001b[1;32m    491\u001b[0m \u001b[0;34m\u001b[0m\u001b[0m\n\u001b[1;32m    492\u001b[0m   \u001b[0;34m@\u001b[0m\u001b[0mdoc_controls\u001b[0m\u001b[0;34m.\u001b[0m\u001b[0mdoc_in_current_and_subclasses\u001b[0m\u001b[0;34m\u001b[0m\u001b[0;34m\u001b[0m\u001b[0m\n",
            "\u001b[0;32m/usr/local/lib/python3.8/dist-packages/keras/utils/traceback_utils.py\u001b[0m in \u001b[0;36merror_handler\u001b[0;34m(*args, **kwargs)\u001b[0m\n\u001b[1;32m     62\u001b[0m     \u001b[0mfiltered_tb\u001b[0m \u001b[0;34m=\u001b[0m \u001b[0;32mNone\u001b[0m\u001b[0;34m\u001b[0m\u001b[0;34m\u001b[0m\u001b[0m\n\u001b[1;32m     63\u001b[0m     \u001b[0;32mtry\u001b[0m\u001b[0;34m:\u001b[0m\u001b[0;34m\u001b[0m\u001b[0;34m\u001b[0m\u001b[0m\n\u001b[0;32m---> 64\u001b[0;31m       \u001b[0;32mreturn\u001b[0m \u001b[0mfn\u001b[0m\u001b[0;34m(\u001b[0m\u001b[0;34m*\u001b[0m\u001b[0margs\u001b[0m\u001b[0;34m,\u001b[0m \u001b[0;34m**\u001b[0m\u001b[0mkwargs\u001b[0m\u001b[0;34m)\u001b[0m\u001b[0;34m\u001b[0m\u001b[0;34m\u001b[0m\u001b[0m\n\u001b[0m\u001b[1;32m     65\u001b[0m     \u001b[0;32mexcept\u001b[0m \u001b[0mException\u001b[0m \u001b[0;32mas\u001b[0m \u001b[0me\u001b[0m\u001b[0;34m:\u001b[0m  \u001b[0;31m# pylint: disable=broad-except\u001b[0m\u001b[0;34m\u001b[0m\u001b[0;34m\u001b[0m\u001b[0m\n\u001b[1;32m     66\u001b[0m       \u001b[0mfiltered_tb\u001b[0m \u001b[0;34m=\u001b[0m \u001b[0m_process_traceback_frames\u001b[0m\u001b[0;34m(\u001b[0m\u001b[0me\u001b[0m\u001b[0;34m.\u001b[0m\u001b[0m__traceback__\u001b[0m\u001b[0;34m)\u001b[0m\u001b[0;34m\u001b[0m\u001b[0;34m\u001b[0m\u001b[0m\n",
            "\u001b[0;32m/usr/local/lib/python3.8/dist-packages/keras/engine/base_layer.py\u001b[0m in \u001b[0;36m__call__\u001b[0;34m(self, *args, **kwargs)\u001b[0m\n\u001b[1;32m   1012\u001b[0m         with autocast_variable.enable_auto_cast_variables(\n\u001b[1;32m   1013\u001b[0m             self._compute_dtype_object):\n\u001b[0;32m-> 1014\u001b[0;31m           \u001b[0moutputs\u001b[0m \u001b[0;34m=\u001b[0m \u001b[0mcall_fn\u001b[0m\u001b[0;34m(\u001b[0m\u001b[0minputs\u001b[0m\u001b[0;34m,\u001b[0m \u001b[0;34m*\u001b[0m\u001b[0margs\u001b[0m\u001b[0;34m,\u001b[0m \u001b[0;34m**\u001b[0m\u001b[0mkwargs\u001b[0m\u001b[0;34m)\u001b[0m\u001b[0;34m\u001b[0m\u001b[0;34m\u001b[0m\u001b[0m\n\u001b[0m\u001b[1;32m   1015\u001b[0m \u001b[0;34m\u001b[0m\u001b[0m\n\u001b[1;32m   1016\u001b[0m         \u001b[0;32mif\u001b[0m \u001b[0mself\u001b[0m\u001b[0;34m.\u001b[0m\u001b[0m_activity_regularizer\u001b[0m\u001b[0;34m:\u001b[0m\u001b[0;34m\u001b[0m\u001b[0;34m\u001b[0m\u001b[0m\n",
            "\u001b[0;32m/usr/local/lib/python3.8/dist-packages/keras/utils/traceback_utils.py\u001b[0m in \u001b[0;36merror_handler\u001b[0;34m(*args, **kwargs)\u001b[0m\n\u001b[1;32m     90\u001b[0m     \u001b[0mbound_signature\u001b[0m \u001b[0;34m=\u001b[0m \u001b[0;32mNone\u001b[0m\u001b[0;34m\u001b[0m\u001b[0;34m\u001b[0m\u001b[0m\n\u001b[1;32m     91\u001b[0m     \u001b[0;32mtry\u001b[0m\u001b[0;34m:\u001b[0m\u001b[0;34m\u001b[0m\u001b[0;34m\u001b[0m\u001b[0m\n\u001b[0;32m---> 92\u001b[0;31m       \u001b[0;32mreturn\u001b[0m \u001b[0mfn\u001b[0m\u001b[0;34m(\u001b[0m\u001b[0;34m*\u001b[0m\u001b[0margs\u001b[0m\u001b[0;34m,\u001b[0m \u001b[0;34m**\u001b[0m\u001b[0mkwargs\u001b[0m\u001b[0;34m)\u001b[0m\u001b[0;34m\u001b[0m\u001b[0;34m\u001b[0m\u001b[0m\n\u001b[0m\u001b[1;32m     93\u001b[0m     \u001b[0;32mexcept\u001b[0m \u001b[0mException\u001b[0m \u001b[0;32mas\u001b[0m \u001b[0me\u001b[0m\u001b[0;34m:\u001b[0m  \u001b[0;31m# pylint: disable=broad-except\u001b[0m\u001b[0;34m\u001b[0m\u001b[0;34m\u001b[0m\u001b[0m\n\u001b[1;32m     94\u001b[0m       \u001b[0;32mif\u001b[0m \u001b[0mhasattr\u001b[0m\u001b[0;34m(\u001b[0m\u001b[0me\u001b[0m\u001b[0;34m,\u001b[0m \u001b[0;34m'_keras_call_info_injected'\u001b[0m\u001b[0;34m)\u001b[0m\u001b[0;34m:\u001b[0m\u001b[0;34m\u001b[0m\u001b[0;34m\u001b[0m\u001b[0m\n",
            "\u001b[0;32m<ipython-input-222-b32f94c4fed8>\u001b[0m in \u001b[0;36mcall\u001b[0;34m(self, input)\u001b[0m\n\u001b[1;32m     16\u001b[0m \u001b[0;34m\u001b[0m\u001b[0m\n\u001b[1;32m     17\u001b[0m   \u001b[0;32mdef\u001b[0m \u001b[0mcall\u001b[0m\u001b[0;34m(\u001b[0m\u001b[0mself\u001b[0m\u001b[0;34m,\u001b[0m \u001b[0minput\u001b[0m\u001b[0;34m)\u001b[0m\u001b[0;34m:\u001b[0m\u001b[0;34m\u001b[0m\u001b[0;34m\u001b[0m\u001b[0m\n\u001b[0;32m---> 18\u001b[0;31m     \u001b[0menc_output\u001b[0m \u001b[0;34m=\u001b[0m \u001b[0mself\u001b[0m\u001b[0;34m.\u001b[0m\u001b[0msab_2\u001b[0m\u001b[0;34m(\u001b[0m\u001b[0mself\u001b[0m\u001b[0;34m.\u001b[0m\u001b[0msab_1\u001b[0m\u001b[0;34m(\u001b[0m\u001b[0minput\u001b[0m\u001b[0;34m)\u001b[0m\u001b[0;34m)\u001b[0m\u001b[0;34m\u001b[0m\u001b[0;34m\u001b[0m\u001b[0m\n\u001b[0m\u001b[1;32m     19\u001b[0m \u001b[0;34m\u001b[0m\u001b[0m\n\u001b[1;32m     20\u001b[0m     \u001b[0;31m#return self.pma(enc_output)\u001b[0m\u001b[0;34m\u001b[0m\u001b[0;34m\u001b[0m\u001b[0;34m\u001b[0m\u001b[0m\n",
            "\u001b[0;32m/usr/local/lib/python3.8/dist-packages/keras/utils/traceback_utils.py\u001b[0m in \u001b[0;36merror_handler\u001b[0;34m(*args, **kwargs)\u001b[0m\n\u001b[1;32m     62\u001b[0m     \u001b[0mfiltered_tb\u001b[0m \u001b[0;34m=\u001b[0m \u001b[0;32mNone\u001b[0m\u001b[0;34m\u001b[0m\u001b[0;34m\u001b[0m\u001b[0m\n\u001b[1;32m     63\u001b[0m     \u001b[0;32mtry\u001b[0m\u001b[0;34m:\u001b[0m\u001b[0;34m\u001b[0m\u001b[0;34m\u001b[0m\u001b[0m\n\u001b[0;32m---> 64\u001b[0;31m       \u001b[0;32mreturn\u001b[0m \u001b[0mfn\u001b[0m\u001b[0;34m(\u001b[0m\u001b[0;34m*\u001b[0m\u001b[0margs\u001b[0m\u001b[0;34m,\u001b[0m \u001b[0;34m**\u001b[0m\u001b[0mkwargs\u001b[0m\u001b[0;34m)\u001b[0m\u001b[0;34m\u001b[0m\u001b[0;34m\u001b[0m\u001b[0m\n\u001b[0m\u001b[1;32m     65\u001b[0m     \u001b[0;32mexcept\u001b[0m \u001b[0mException\u001b[0m \u001b[0;32mas\u001b[0m \u001b[0me\u001b[0m\u001b[0;34m:\u001b[0m  \u001b[0;31m# pylint: disable=broad-except\u001b[0m\u001b[0;34m\u001b[0m\u001b[0;34m\u001b[0m\u001b[0m\n\u001b[1;32m     66\u001b[0m       \u001b[0mfiltered_tb\u001b[0m \u001b[0;34m=\u001b[0m \u001b[0m_process_traceback_frames\u001b[0m\u001b[0;34m(\u001b[0m\u001b[0me\u001b[0m\u001b[0;34m.\u001b[0m\u001b[0m__traceback__\u001b[0m\u001b[0;34m)\u001b[0m\u001b[0;34m\u001b[0m\u001b[0;34m\u001b[0m\u001b[0m\n",
            "\u001b[0;32m/usr/local/lib/python3.8/dist-packages/keras/engine/base_layer.py\u001b[0m in \u001b[0;36m__call__\u001b[0;34m(self, *args, **kwargs)\u001b[0m\n\u001b[1;32m   1012\u001b[0m         with autocast_variable.enable_auto_cast_variables(\n\u001b[1;32m   1013\u001b[0m             self._compute_dtype_object):\n\u001b[0;32m-> 1014\u001b[0;31m           \u001b[0moutputs\u001b[0m \u001b[0;34m=\u001b[0m \u001b[0mcall_fn\u001b[0m\u001b[0;34m(\u001b[0m\u001b[0minputs\u001b[0m\u001b[0;34m,\u001b[0m \u001b[0;34m*\u001b[0m\u001b[0margs\u001b[0m\u001b[0;34m,\u001b[0m \u001b[0;34m**\u001b[0m\u001b[0mkwargs\u001b[0m\u001b[0;34m)\u001b[0m\u001b[0;34m\u001b[0m\u001b[0;34m\u001b[0m\u001b[0m\n\u001b[0m\u001b[1;32m   1015\u001b[0m \u001b[0;34m\u001b[0m\u001b[0m\n\u001b[1;32m   1016\u001b[0m         \u001b[0;32mif\u001b[0m \u001b[0mself\u001b[0m\u001b[0;34m.\u001b[0m\u001b[0m_activity_regularizer\u001b[0m\u001b[0;34m:\u001b[0m\u001b[0;34m\u001b[0m\u001b[0;34m\u001b[0m\u001b[0m\n",
            "\u001b[0;32m/usr/local/lib/python3.8/dist-packages/keras/utils/traceback_utils.py\u001b[0m in \u001b[0;36merror_handler\u001b[0;34m(*args, **kwargs)\u001b[0m\n\u001b[1;32m     90\u001b[0m     \u001b[0mbound_signature\u001b[0m \u001b[0;34m=\u001b[0m \u001b[0;32mNone\u001b[0m\u001b[0;34m\u001b[0m\u001b[0;34m\u001b[0m\u001b[0m\n\u001b[1;32m     91\u001b[0m     \u001b[0;32mtry\u001b[0m\u001b[0;34m:\u001b[0m\u001b[0;34m\u001b[0m\u001b[0;34m\u001b[0m\u001b[0m\n\u001b[0;32m---> 92\u001b[0;31m       \u001b[0;32mreturn\u001b[0m \u001b[0mfn\u001b[0m\u001b[0;34m(\u001b[0m\u001b[0;34m*\u001b[0m\u001b[0margs\u001b[0m\u001b[0;34m,\u001b[0m \u001b[0;34m**\u001b[0m\u001b[0mkwargs\u001b[0m\u001b[0;34m)\u001b[0m\u001b[0;34m\u001b[0m\u001b[0;34m\u001b[0m\u001b[0m\n\u001b[0m\u001b[1;32m     93\u001b[0m     \u001b[0;32mexcept\u001b[0m \u001b[0mException\u001b[0m \u001b[0;32mas\u001b[0m \u001b[0me\u001b[0m\u001b[0;34m:\u001b[0m  \u001b[0;31m# pylint: disable=broad-except\u001b[0m\u001b[0;34m\u001b[0m\u001b[0;34m\u001b[0m\u001b[0m\n\u001b[1;32m     94\u001b[0m       \u001b[0;32mif\u001b[0m \u001b[0mhasattr\u001b[0m\u001b[0;34m(\u001b[0m\u001b[0me\u001b[0m\u001b[0;34m,\u001b[0m \u001b[0;34m'_keras_call_info_injected'\u001b[0m\u001b[0;34m)\u001b[0m\u001b[0;34m:\u001b[0m\u001b[0;34m\u001b[0m\u001b[0;34m\u001b[0m\u001b[0m\n",
            "\u001b[0;32m<ipython-input-95-f44ef12af77f>\u001b[0m in \u001b[0;36mcall\u001b[0;34m(self, x)\u001b[0m\n\u001b[1;32m     13\u001b[0m \u001b[0;34m\u001b[0m\u001b[0m\n\u001b[1;32m     14\u001b[0m \u001b[0;34m\u001b[0m\u001b[0m\n\u001b[0;32m---> 15\u001b[0;31m     \u001b[0;32mreturn\u001b[0m \u001b[0mself\u001b[0m\u001b[0;34m.\u001b[0m\u001b[0mmab\u001b[0m\u001b[0;34m(\u001b[0m\u001b[0mx\u001b[0m\u001b[0;34m,\u001b[0m \u001b[0mx\u001b[0m\u001b[0;34m)\u001b[0m\u001b[0;34m\u001b[0m\u001b[0;34m\u001b[0m\u001b[0m\n\u001b[0m\u001b[1;32m     16\u001b[0m \u001b[0;34m\u001b[0m\u001b[0m\n\u001b[1;32m     17\u001b[0m \u001b[0;34m\u001b[0m\u001b[0m\n",
            "\u001b[0;32m/usr/local/lib/python3.8/dist-packages/keras/utils/traceback_utils.py\u001b[0m in \u001b[0;36merror_handler\u001b[0;34m(*args, **kwargs)\u001b[0m\n\u001b[1;32m     62\u001b[0m     \u001b[0mfiltered_tb\u001b[0m \u001b[0;34m=\u001b[0m \u001b[0;32mNone\u001b[0m\u001b[0;34m\u001b[0m\u001b[0;34m\u001b[0m\u001b[0m\n\u001b[1;32m     63\u001b[0m     \u001b[0;32mtry\u001b[0m\u001b[0;34m:\u001b[0m\u001b[0;34m\u001b[0m\u001b[0;34m\u001b[0m\u001b[0m\n\u001b[0;32m---> 64\u001b[0;31m       \u001b[0;32mreturn\u001b[0m \u001b[0mfn\u001b[0m\u001b[0;34m(\u001b[0m\u001b[0;34m*\u001b[0m\u001b[0margs\u001b[0m\u001b[0;34m,\u001b[0m \u001b[0;34m**\u001b[0m\u001b[0mkwargs\u001b[0m\u001b[0;34m)\u001b[0m\u001b[0;34m\u001b[0m\u001b[0;34m\u001b[0m\u001b[0m\n\u001b[0m\u001b[1;32m     65\u001b[0m     \u001b[0;32mexcept\u001b[0m \u001b[0mException\u001b[0m \u001b[0;32mas\u001b[0m \u001b[0me\u001b[0m\u001b[0;34m:\u001b[0m  \u001b[0;31m# pylint: disable=broad-except\u001b[0m\u001b[0;34m\u001b[0m\u001b[0;34m\u001b[0m\u001b[0m\n\u001b[1;32m     66\u001b[0m       \u001b[0mfiltered_tb\u001b[0m \u001b[0;34m=\u001b[0m \u001b[0m_process_traceback_frames\u001b[0m\u001b[0;34m(\u001b[0m\u001b[0me\u001b[0m\u001b[0;34m.\u001b[0m\u001b[0m__traceback__\u001b[0m\u001b[0;34m)\u001b[0m\u001b[0;34m\u001b[0m\u001b[0;34m\u001b[0m\u001b[0m\n",
            "\u001b[0;32m/usr/local/lib/python3.8/dist-packages/keras/engine/base_layer.py\u001b[0m in \u001b[0;36m__call__\u001b[0;34m(self, *args, **kwargs)\u001b[0m\n\u001b[1;32m   1012\u001b[0m         with autocast_variable.enable_auto_cast_variables(\n\u001b[1;32m   1013\u001b[0m             self._compute_dtype_object):\n\u001b[0;32m-> 1014\u001b[0;31m           \u001b[0moutputs\u001b[0m \u001b[0;34m=\u001b[0m \u001b[0mcall_fn\u001b[0m\u001b[0;34m(\u001b[0m\u001b[0minputs\u001b[0m\u001b[0;34m,\u001b[0m \u001b[0;34m*\u001b[0m\u001b[0margs\u001b[0m\u001b[0;34m,\u001b[0m \u001b[0;34m**\u001b[0m\u001b[0mkwargs\u001b[0m\u001b[0;34m)\u001b[0m\u001b[0;34m\u001b[0m\u001b[0;34m\u001b[0m\u001b[0m\n\u001b[0m\u001b[1;32m   1015\u001b[0m \u001b[0;34m\u001b[0m\u001b[0m\n\u001b[1;32m   1016\u001b[0m         \u001b[0;32mif\u001b[0m \u001b[0mself\u001b[0m\u001b[0;34m.\u001b[0m\u001b[0m_activity_regularizer\u001b[0m\u001b[0;34m:\u001b[0m\u001b[0;34m\u001b[0m\u001b[0;34m\u001b[0m\u001b[0m\n",
            "\u001b[0;32m/usr/local/lib/python3.8/dist-packages/keras/utils/traceback_utils.py\u001b[0m in \u001b[0;36merror_handler\u001b[0;34m(*args, **kwargs)\u001b[0m\n\u001b[1;32m     90\u001b[0m     \u001b[0mbound_signature\u001b[0m \u001b[0;34m=\u001b[0m \u001b[0;32mNone\u001b[0m\u001b[0;34m\u001b[0m\u001b[0;34m\u001b[0m\u001b[0m\n\u001b[1;32m     91\u001b[0m     \u001b[0;32mtry\u001b[0m\u001b[0;34m:\u001b[0m\u001b[0;34m\u001b[0m\u001b[0;34m\u001b[0m\u001b[0m\n\u001b[0;32m---> 92\u001b[0;31m       \u001b[0;32mreturn\u001b[0m \u001b[0mfn\u001b[0m\u001b[0;34m(\u001b[0m\u001b[0;34m*\u001b[0m\u001b[0margs\u001b[0m\u001b[0;34m,\u001b[0m \u001b[0;34m**\u001b[0m\u001b[0mkwargs\u001b[0m\u001b[0;34m)\u001b[0m\u001b[0;34m\u001b[0m\u001b[0;34m\u001b[0m\u001b[0m\n\u001b[0m\u001b[1;32m     93\u001b[0m     \u001b[0;32mexcept\u001b[0m \u001b[0mException\u001b[0m \u001b[0;32mas\u001b[0m \u001b[0me\u001b[0m\u001b[0;34m:\u001b[0m  \u001b[0;31m# pylint: disable=broad-except\u001b[0m\u001b[0;34m\u001b[0m\u001b[0;34m\u001b[0m\u001b[0m\n\u001b[1;32m     94\u001b[0m       \u001b[0;32mif\u001b[0m \u001b[0mhasattr\u001b[0m\u001b[0;34m(\u001b[0m\u001b[0me\u001b[0m\u001b[0;34m,\u001b[0m \u001b[0;34m'_keras_call_info_injected'\u001b[0m\u001b[0;34m)\u001b[0m\u001b[0;34m:\u001b[0m\u001b[0;34m\u001b[0m\u001b[0;34m\u001b[0m\u001b[0m\n",
            "\u001b[0;32m<ipython-input-92-e6e3159cc9a3>\u001b[0m in \u001b[0;36mcall\u001b[0;34m(self, x, y)\u001b[0m\n\u001b[1;32m     19\u001b[0m   \u001b[0;32mdef\u001b[0m \u001b[0mcall\u001b[0m\u001b[0;34m(\u001b[0m\u001b[0mself\u001b[0m\u001b[0;34m,\u001b[0m \u001b[0mx\u001b[0m\u001b[0;34m,\u001b[0m \u001b[0my\u001b[0m\u001b[0;34m)\u001b[0m\u001b[0;34m:\u001b[0m\u001b[0;34m\u001b[0m\u001b[0;34m\u001b[0m\u001b[0m\n\u001b[1;32m     20\u001b[0m \u001b[0;34m\u001b[0m\u001b[0m\n\u001b[0;32m---> 21\u001b[0;31m     \u001b[0mmab_xy\u001b[0m \u001b[0;34m=\u001b[0m \u001b[0mself\u001b[0m\u001b[0;34m.\u001b[0m\u001b[0matt\u001b[0m\u001b[0;34m(\u001b[0m\u001b[0mx\u001b[0m\u001b[0;34m,\u001b[0m \u001b[0my\u001b[0m\u001b[0;34m,\u001b[0m \u001b[0my\u001b[0m\u001b[0;34m)\u001b[0m\u001b[0;34m\u001b[0m\u001b[0;34m\u001b[0m\u001b[0m\n\u001b[0m\u001b[1;32m     22\u001b[0m     \u001b[0mh\u001b[0m \u001b[0;34m=\u001b[0m \u001b[0mself\u001b[0m\u001b[0;34m.\u001b[0m\u001b[0mnorm\u001b[0m\u001b[0;34m(\u001b[0m\u001b[0mmab_xy\u001b[0m \u001b[0;34m+\u001b[0m \u001b[0mx\u001b[0m\u001b[0;34m)\u001b[0m\u001b[0;34m\u001b[0m\u001b[0;34m\u001b[0m\u001b[0m\n\u001b[1;32m     23\u001b[0m \u001b[0;34m\u001b[0m\u001b[0m\n",
            "\u001b[0;32m/usr/local/lib/python3.8/dist-packages/keras/utils/traceback_utils.py\u001b[0m in \u001b[0;36merror_handler\u001b[0;34m(*args, **kwargs)\u001b[0m\n\u001b[1;32m     62\u001b[0m     \u001b[0mfiltered_tb\u001b[0m \u001b[0;34m=\u001b[0m \u001b[0;32mNone\u001b[0m\u001b[0;34m\u001b[0m\u001b[0;34m\u001b[0m\u001b[0m\n\u001b[1;32m     63\u001b[0m     \u001b[0;32mtry\u001b[0m\u001b[0;34m:\u001b[0m\u001b[0;34m\u001b[0m\u001b[0;34m\u001b[0m\u001b[0m\n\u001b[0;32m---> 64\u001b[0;31m       \u001b[0;32mreturn\u001b[0m \u001b[0mfn\u001b[0m\u001b[0;34m(\u001b[0m\u001b[0;34m*\u001b[0m\u001b[0margs\u001b[0m\u001b[0;34m,\u001b[0m \u001b[0;34m**\u001b[0m\u001b[0mkwargs\u001b[0m\u001b[0;34m)\u001b[0m\u001b[0;34m\u001b[0m\u001b[0;34m\u001b[0m\u001b[0m\n\u001b[0m\u001b[1;32m     65\u001b[0m     \u001b[0;32mexcept\u001b[0m \u001b[0mException\u001b[0m \u001b[0;32mas\u001b[0m \u001b[0me\u001b[0m\u001b[0;34m:\u001b[0m  \u001b[0;31m# pylint: disable=broad-except\u001b[0m\u001b[0;34m\u001b[0m\u001b[0;34m\u001b[0m\u001b[0m\n\u001b[1;32m     66\u001b[0m       \u001b[0mfiltered_tb\u001b[0m \u001b[0;34m=\u001b[0m \u001b[0m_process_traceback_frames\u001b[0m\u001b[0;34m(\u001b[0m\u001b[0me\u001b[0m\u001b[0;34m.\u001b[0m\u001b[0m__traceback__\u001b[0m\u001b[0;34m)\u001b[0m\u001b[0;34m\u001b[0m\u001b[0;34m\u001b[0m\u001b[0m\n",
            "\u001b[0;32m/usr/local/lib/python3.8/dist-packages/keras/engine/base_layer.py\u001b[0m in \u001b[0;36m__call__\u001b[0;34m(self, *args, **kwargs)\u001b[0m\n\u001b[1;32m   1012\u001b[0m         with autocast_variable.enable_auto_cast_variables(\n\u001b[1;32m   1013\u001b[0m             self._compute_dtype_object):\n\u001b[0;32m-> 1014\u001b[0;31m           \u001b[0moutputs\u001b[0m \u001b[0;34m=\u001b[0m \u001b[0mcall_fn\u001b[0m\u001b[0;34m(\u001b[0m\u001b[0minputs\u001b[0m\u001b[0;34m,\u001b[0m \u001b[0;34m*\u001b[0m\u001b[0margs\u001b[0m\u001b[0;34m,\u001b[0m \u001b[0;34m**\u001b[0m\u001b[0mkwargs\u001b[0m\u001b[0;34m)\u001b[0m\u001b[0;34m\u001b[0m\u001b[0;34m\u001b[0m\u001b[0m\n\u001b[0m\u001b[1;32m   1015\u001b[0m \u001b[0;34m\u001b[0m\u001b[0m\n\u001b[1;32m   1016\u001b[0m         \u001b[0;32mif\u001b[0m \u001b[0mself\u001b[0m\u001b[0;34m.\u001b[0m\u001b[0m_activity_regularizer\u001b[0m\u001b[0;34m:\u001b[0m\u001b[0;34m\u001b[0m\u001b[0;34m\u001b[0m\u001b[0m\n",
            "\u001b[0;32m/usr/local/lib/python3.8/dist-packages/keras/utils/traceback_utils.py\u001b[0m in \u001b[0;36merror_handler\u001b[0;34m(*args, **kwargs)\u001b[0m\n\u001b[1;32m     90\u001b[0m     \u001b[0mbound_signature\u001b[0m \u001b[0;34m=\u001b[0m \u001b[0;32mNone\u001b[0m\u001b[0;34m\u001b[0m\u001b[0;34m\u001b[0m\u001b[0m\n\u001b[1;32m     91\u001b[0m     \u001b[0;32mtry\u001b[0m\u001b[0;34m:\u001b[0m\u001b[0;34m\u001b[0m\u001b[0;34m\u001b[0m\u001b[0m\n\u001b[0;32m---> 92\u001b[0;31m       \u001b[0;32mreturn\u001b[0m \u001b[0mfn\u001b[0m\u001b[0;34m(\u001b[0m\u001b[0;34m*\u001b[0m\u001b[0margs\u001b[0m\u001b[0;34m,\u001b[0m \u001b[0;34m**\u001b[0m\u001b[0mkwargs\u001b[0m\u001b[0;34m)\u001b[0m\u001b[0;34m\u001b[0m\u001b[0;34m\u001b[0m\u001b[0m\n\u001b[0m\u001b[1;32m     93\u001b[0m     \u001b[0;32mexcept\u001b[0m \u001b[0mException\u001b[0m \u001b[0;32mas\u001b[0m \u001b[0me\u001b[0m\u001b[0;34m:\u001b[0m  \u001b[0;31m# pylint: disable=broad-except\u001b[0m\u001b[0;34m\u001b[0m\u001b[0;34m\u001b[0m\u001b[0m\n\u001b[1;32m     94\u001b[0m       \u001b[0;32mif\u001b[0m \u001b[0mhasattr\u001b[0m\u001b[0;34m(\u001b[0m\u001b[0me\u001b[0m\u001b[0;34m,\u001b[0m \u001b[0;34m'_keras_call_info_injected'\u001b[0m\u001b[0;34m)\u001b[0m\u001b[0;34m:\u001b[0m\u001b[0;34m\u001b[0m\u001b[0;34m\u001b[0m\u001b[0m\n",
            "\u001b[0;32m<ipython-input-40-ecccfb6a3c09>\u001b[0m in \u001b[0;36mcall\u001b[0;34m(self, key, query, value)\u001b[0m\n\u001b[1;32m     44\u001b[0m \u001b[0;34m\u001b[0m\u001b[0m\n\u001b[1;32m     45\u001b[0m     \u001b[0;31m# add / norm\u001b[0m\u001b[0;34m\u001b[0m\u001b[0;34m\u001b[0m\u001b[0;34m\u001b[0m\u001b[0m\n\u001b[0;32m---> 46\u001b[0;31m     \u001b[0;32mreturn\u001b[0m \u001b[0mself\u001b[0m\u001b[0;34m.\u001b[0m\u001b[0moutput_dense_layer\u001b[0m\u001b[0;34m(\u001b[0m\u001b[0mself\u001b[0m\u001b[0;34m.\u001b[0m\u001b[0munite_head\u001b[0m\u001b[0;34m(\u001b[0m\u001b[0mweighted\u001b[0m\u001b[0;34m)\u001b[0m\u001b[0;34m)\u001b[0m\u001b[0;34m\u001b[0m\u001b[0;34m\u001b[0m\u001b[0m\n\u001b[0m\u001b[1;32m     47\u001b[0m     \u001b[0;31m#return key, att_weight,value\u001b[0m\u001b[0;34m\u001b[0m\u001b[0;34m\u001b[0m\u001b[0;34m\u001b[0m\u001b[0m\n\u001b[1;32m     48\u001b[0m \u001b[0;34m\u001b[0m\u001b[0m\n",
            "\u001b[0;32m/usr/local/lib/python3.8/dist-packages/keras/utils/traceback_utils.py\u001b[0m in \u001b[0;36merror_handler\u001b[0;34m(*args, **kwargs)\u001b[0m\n\u001b[1;32m     62\u001b[0m     \u001b[0mfiltered_tb\u001b[0m \u001b[0;34m=\u001b[0m \u001b[0;32mNone\u001b[0m\u001b[0;34m\u001b[0m\u001b[0;34m\u001b[0m\u001b[0m\n\u001b[1;32m     63\u001b[0m     \u001b[0;32mtry\u001b[0m\u001b[0;34m:\u001b[0m\u001b[0;34m\u001b[0m\u001b[0;34m\u001b[0m\u001b[0m\n\u001b[0;32m---> 64\u001b[0;31m       \u001b[0;32mreturn\u001b[0m \u001b[0mfn\u001b[0m\u001b[0;34m(\u001b[0m\u001b[0;34m*\u001b[0m\u001b[0margs\u001b[0m\u001b[0;34m,\u001b[0m \u001b[0;34m**\u001b[0m\u001b[0mkwargs\u001b[0m\u001b[0;34m)\u001b[0m\u001b[0;34m\u001b[0m\u001b[0;34m\u001b[0m\u001b[0m\n\u001b[0m\u001b[1;32m     65\u001b[0m     \u001b[0;32mexcept\u001b[0m \u001b[0mException\u001b[0m \u001b[0;32mas\u001b[0m \u001b[0me\u001b[0m\u001b[0;34m:\u001b[0m  \u001b[0;31m# pylint: disable=broad-except\u001b[0m\u001b[0;34m\u001b[0m\u001b[0;34m\u001b[0m\u001b[0m\n\u001b[1;32m     66\u001b[0m       \u001b[0mfiltered_tb\u001b[0m \u001b[0;34m=\u001b[0m \u001b[0m_process_traceback_frames\u001b[0m\u001b[0;34m(\u001b[0m\u001b[0me\u001b[0m\u001b[0;34m.\u001b[0m\u001b[0m__traceback__\u001b[0m\u001b[0;34m)\u001b[0m\u001b[0;34m\u001b[0m\u001b[0;34m\u001b[0m\u001b[0m\n",
            "\u001b[0;32m/usr/local/lib/python3.8/dist-packages/keras/engine/base_layer.py\u001b[0m in \u001b[0;36m__call__\u001b[0;34m(self, *args, **kwargs)\u001b[0m\n\u001b[1;32m    946\u001b[0m \u001b[0;34m\u001b[0m\u001b[0m\n\u001b[1;32m    947\u001b[0m     \u001b[0;31m# Maintains info about the `Layer.call` stack.\u001b[0m\u001b[0;34m\u001b[0m\u001b[0;34m\u001b[0m\u001b[0;34m\u001b[0m\u001b[0m\n\u001b[0;32m--> 948\u001b[0;31m     \u001b[0mcall_context\u001b[0m \u001b[0;34m=\u001b[0m \u001b[0mbase_layer_utils\u001b[0m\u001b[0;34m.\u001b[0m\u001b[0mcall_context\u001b[0m\u001b[0;34m(\u001b[0m\u001b[0;34m)\u001b[0m\u001b[0;34m\u001b[0m\u001b[0;34m\u001b[0m\u001b[0m\n\u001b[0m\u001b[1;32m    949\u001b[0m \u001b[0;34m\u001b[0m\u001b[0m\n\u001b[1;32m    950\u001b[0m     \u001b[0;31m# Accept NumPy and scalar inputs by converting to Tensors.\u001b[0m\u001b[0;34m\u001b[0m\u001b[0;34m\u001b[0m\u001b[0;34m\u001b[0m\u001b[0m\n",
            "\u001b[0;31mKeyboardInterrupt\u001b[0m: "
          ]
        }
      ]
    },
    {
      "cell_type": "code",
      "source": [
        "test_data = np.random.rand(1, 10,10)"
      ],
      "metadata": {
        "id": "MaS5DHDkyHBb"
      },
      "execution_count": 230,
      "outputs": []
    },
    {
      "cell_type": "code",
      "source": [
        "test_data_shuffle = np.concatenate(  [test_data[0, 5:], test_data[0, 0:5]]).reshape(1,10,10)"
      ],
      "metadata": {
        "id": "P_OukNvY4DAb"
      },
      "execution_count": 231,
      "outputs": []
    },
    {
      "cell_type": "code",
      "source": [
        "model(test_data)"
      ],
      "metadata": {
        "colab": {
          "base_uri": "https://localhost:8080/"
        },
        "id": "bFOCZ61d4X-V",
        "outputId": "b6c67def-0769-49f9-dd8d-569670d1c6f7"
      },
      "execution_count": 232,
      "outputs": [
        {
          "output_type": "execute_result",
          "data": {
            "text/plain": [
              "<tf.Tensor: shape=(1, 1), dtype=float32, numpy=array([[0.5137366]], dtype=float32)>"
            ]
          },
          "metadata": {},
          "execution_count": 232
        }
      ]
    },
    {
      "cell_type": "code",
      "source": [
        "model(test_data_shuffle)"
      ],
      "metadata": {
        "colab": {
          "base_uri": "https://localhost:8080/"
        },
        "id": "Np8rfuZR6Zlt",
        "outputId": "891775d5-8eee-405b-d9aa-a4551b9be32a"
      },
      "execution_count": 233,
      "outputs": [
        {
          "output_type": "execute_result",
          "data": {
            "text/plain": [
              "<tf.Tensor: shape=(1, 1), dtype=float32, numpy=array([[0.51373667]], dtype=float32)>"
            ]
          },
          "metadata": {},
          "execution_count": 233
        }
      ]
    },
    {
      "cell_type": "code",
      "source": [
        "np.linalg.norm( np.sum(test_data, axis = 1),axis = 1) / max_"
      ],
      "metadata": {
        "colab": {
          "base_uri": "https://localhost:8080/"
        },
        "id": "CxE6Mza55-_w",
        "outputId": "8c23a309-903d-4246-f0e0-59d72224614d"
      },
      "execution_count": 234,
      "outputs": [
        {
          "output_type": "execute_result",
          "data": {
            "text/plain": [
              "array([0.53719827])"
            ]
          },
          "metadata": {},
          "execution_count": 234
        }
      ]
    },
    {
      "cell_type": "code",
      "source": [],
      "metadata": {
        "id": "ILqipYJZ-Odq"
      },
      "execution_count": null,
      "outputs": []
    }
  ]
}