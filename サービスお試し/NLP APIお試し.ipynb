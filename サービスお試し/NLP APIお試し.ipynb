{
 "cells": [
  {
   "cell_type": "code",
   "execution_count": 2,
   "id": "8683071e-2766-44fb-8b77-833bc098cb2c",
   "metadata": {
    "collapsed": true,
    "jupyter": {
     "outputs_hidden": true
    },
    "tags": []
   },
   "outputs": [
    {
     "name": "stdout",
     "output_type": "stream",
     "text": [
      "Requirement already satisfied: google-cloud-language in /opt/conda/lib/python3.7/site-packages (2.9.0)\n",
      "Requirement already satisfied: protobuf!=3.20.0,!=3.20.1,!=4.21.0,!=4.21.1,!=4.21.2,!=4.21.3,!=4.21.4,!=4.21.5,<5.0.0dev,>=3.19.5 in /opt/conda/lib/python3.7/site-packages (from google-cloud-language) (3.19.6)\n",
      "Requirement already satisfied: proto-plus<2.0.0dev,>=1.22.0 in /opt/conda/lib/python3.7/site-packages (from google-cloud-language) (1.22.2)\n",
      "Requirement already satisfied: google-api-core[grpc]!=2.0.*,!=2.1.*,!=2.10.*,!=2.2.*,!=2.3.*,!=2.4.*,!=2.5.*,!=2.6.*,!=2.7.*,!=2.8.*,!=2.9.*,<3.0.0dev,>=1.34.0 in /opt/conda/lib/python3.7/site-packages (from google-cloud-language) (1.34.0)\n",
      "Requirement already satisfied: googleapis-common-protos<2.0dev,>=1.56.2 in /opt/conda/lib/python3.7/site-packages (from google-api-core[grpc]!=2.0.*,!=2.1.*,!=2.10.*,!=2.2.*,!=2.3.*,!=2.4.*,!=2.5.*,!=2.6.*,!=2.7.*,!=2.8.*,!=2.9.*,<3.0.0dev,>=1.34.0->google-cloud-language) (1.58.0)\n",
      "Requirement already satisfied: google-auth<3.0dev,>=1.25.0 in /opt/conda/lib/python3.7/site-packages (from google-api-core[grpc]!=2.0.*,!=2.1.*,!=2.10.*,!=2.2.*,!=2.3.*,!=2.4.*,!=2.5.*,!=2.6.*,!=2.7.*,!=2.8.*,!=2.9.*,<3.0.0dev,>=1.34.0->google-cloud-language) (2.16.0)\n",
      "Requirement already satisfied: requests<3.0.0dev,>=2.18.0 in /opt/conda/lib/python3.7/site-packages (from google-api-core[grpc]!=2.0.*,!=2.1.*,!=2.10.*,!=2.2.*,!=2.3.*,!=2.4.*,!=2.5.*,!=2.6.*,!=2.7.*,!=2.8.*,!=2.9.*,<3.0.0dev,>=1.34.0->google-cloud-language) (2.28.2)\n",
      "Requirement already satisfied: grpcio-status<2.0dev,>=1.33.2 in /opt/conda/lib/python3.7/site-packages (from google-api-core[grpc]!=2.0.*,!=2.1.*,!=2.10.*,!=2.2.*,!=2.3.*,!=2.4.*,!=2.5.*,!=2.6.*,!=2.7.*,!=2.8.*,!=2.9.*,<3.0.0dev,>=1.34.0->google-cloud-language) (1.48.2)\n",
      "Requirement already satisfied: grpcio<2.0dev,>=1.33.2 in /opt/conda/lib/python3.7/site-packages (from google-api-core[grpc]!=2.0.*,!=2.1.*,!=2.10.*,!=2.2.*,!=2.3.*,!=2.4.*,!=2.5.*,!=2.6.*,!=2.7.*,!=2.8.*,!=2.9.*,<3.0.0dev,>=1.34.0->google-cloud-language) (1.51.1)\n",
      "Requirement already satisfied: rsa<5,>=3.1.4 in /opt/conda/lib/python3.7/site-packages (from google-auth<3.0dev,>=1.25.0->google-api-core[grpc]!=2.0.*,!=2.1.*,!=2.10.*,!=2.2.*,!=2.3.*,!=2.4.*,!=2.5.*,!=2.6.*,!=2.7.*,!=2.8.*,!=2.9.*,<3.0.0dev,>=1.34.0->google-cloud-language) (4.9)\n",
      "Requirement already satisfied: cachetools<6.0,>=2.0.0 in /opt/conda/lib/python3.7/site-packages (from google-auth<3.0dev,>=1.25.0->google-api-core[grpc]!=2.0.*,!=2.1.*,!=2.10.*,!=2.2.*,!=2.3.*,!=2.4.*,!=2.5.*,!=2.6.*,!=2.7.*,!=2.8.*,!=2.9.*,<3.0.0dev,>=1.34.0->google-cloud-language) (5.3.0)\n",
      "Requirement already satisfied: six>=1.9.0 in /opt/conda/lib/python3.7/site-packages (from google-auth<3.0dev,>=1.25.0->google-api-core[grpc]!=2.0.*,!=2.1.*,!=2.10.*,!=2.2.*,!=2.3.*,!=2.4.*,!=2.5.*,!=2.6.*,!=2.7.*,!=2.8.*,!=2.9.*,<3.0.0dev,>=1.34.0->google-cloud-language) (1.16.0)\n",
      "Requirement already satisfied: pyasn1-modules>=0.2.1 in /opt/conda/lib/python3.7/site-packages (from google-auth<3.0dev,>=1.25.0->google-api-core[grpc]!=2.0.*,!=2.1.*,!=2.10.*,!=2.2.*,!=2.3.*,!=2.4.*,!=2.5.*,!=2.6.*,!=2.7.*,!=2.8.*,!=2.9.*,<3.0.0dev,>=1.34.0->google-cloud-language) (0.2.8)\n",
      "Requirement already satisfied: charset-normalizer<4,>=2 in /opt/conda/lib/python3.7/site-packages (from requests<3.0.0dev,>=2.18.0->google-api-core[grpc]!=2.0.*,!=2.1.*,!=2.10.*,!=2.2.*,!=2.3.*,!=2.4.*,!=2.5.*,!=2.6.*,!=2.7.*,!=2.8.*,!=2.9.*,<3.0.0dev,>=1.34.0->google-cloud-language) (2.1.1)\n",
      "Requirement already satisfied: urllib3<1.27,>=1.21.1 in /opt/conda/lib/python3.7/site-packages (from requests<3.0.0dev,>=2.18.0->google-api-core[grpc]!=2.0.*,!=2.1.*,!=2.10.*,!=2.2.*,!=2.3.*,!=2.4.*,!=2.5.*,!=2.6.*,!=2.7.*,!=2.8.*,!=2.9.*,<3.0.0dev,>=1.34.0->google-cloud-language) (1.26.14)\n",
      "Requirement already satisfied: idna<4,>=2.5 in /opt/conda/lib/python3.7/site-packages (from requests<3.0.0dev,>=2.18.0->google-api-core[grpc]!=2.0.*,!=2.1.*,!=2.10.*,!=2.2.*,!=2.3.*,!=2.4.*,!=2.5.*,!=2.6.*,!=2.7.*,!=2.8.*,!=2.9.*,<3.0.0dev,>=1.34.0->google-cloud-language) (3.4)\n",
      "Requirement already satisfied: certifi>=2017.4.17 in /opt/conda/lib/python3.7/site-packages (from requests<3.0.0dev,>=2.18.0->google-api-core[grpc]!=2.0.*,!=2.1.*,!=2.10.*,!=2.2.*,!=2.3.*,!=2.4.*,!=2.5.*,!=2.6.*,!=2.7.*,!=2.8.*,!=2.9.*,<3.0.0dev,>=1.34.0->google-cloud-language) (2022.12.7)\n",
      "Requirement already satisfied: pyasn1<0.5.0,>=0.4.6 in /opt/conda/lib/python3.7/site-packages (from pyasn1-modules>=0.2.1->google-auth<3.0dev,>=1.25.0->google-api-core[grpc]!=2.0.*,!=2.1.*,!=2.10.*,!=2.2.*,!=2.3.*,!=2.4.*,!=2.5.*,!=2.6.*,!=2.7.*,!=2.8.*,!=2.9.*,<3.0.0dev,>=1.34.0->google-cloud-language) (0.4.8)\n"
     ]
    }
   ],
   "source": [
    "!pip install --upgrade google-cloud-language"
   ]
  },
  {
   "cell_type": "code",
   "execution_count": 27,
   "id": "830cccfe-ca49-429d-b58c-4325f337409f",
   "metadata": {},
   "outputs": [],
   "source": [
    "from google.cloud import language_v1"
   ]
  },
  {
   "cell_type": "code",
   "execution_count": 28,
   "id": "9abeb62d-0817-45b4-93d1-f599ac1fd483",
   "metadata": {},
   "outputs": [],
   "source": [
    "import pandas as pd"
   ]
  },
  {
   "cell_type": "code",
   "execution_count": 29,
   "id": "8db518d5-fbec-4644-8fc0-55aa116fe282",
   "metadata": {},
   "outputs": [],
   "source": [
    "client = language_v1.LanguageServiceClient()"
   ]
  },
  {
   "cell_type": "code",
   "execution_count": 102,
   "id": "8747500e-e115-4c3b-96b4-3573f765bb78",
   "metadata": {},
   "outputs": [],
   "source": [
    "sample_docs = pd.read_csv(\"sample.csv\")"
   ]
  },
  {
   "cell_type": "code",
   "execution_count": 154,
   "id": "51ef4baa-902e-4e29-a32c-ed94f9f3d46f",
   "metadata": {},
   "outputs": [
    {
     "data": {
      "text/plain": [
       "'ディフェンスとオフェンスのドリブル時のバランスが良くなっている。ただセカンドボールへの反応が悪すぎるので、そこを改善してもらえるとありがたいです。'"
      ]
     },
     "execution_count": 154,
     "metadata": {},
     "output_type": "execute_result"
    }
   ],
   "source": [
    "sample_docs[\"text\"][0]"
   ]
  },
  {
   "cell_type": "code",
   "execution_count": 156,
   "id": "5ed9a2ce-4d52-40e3-95cc-fee5605e4807",
   "metadata": {},
   "outputs": [],
   "source": [
    "type_ = language_v1.Document.Type.PLAIN_TEXT\n",
    "language = \"ja\"\n",
    "document = {\"content\": sample_text, \"type_\":type_, \"language\": language}\n",
    "encoding_type = language_v1.EncodingType.UTF8"
   ]
  },
  {
   "cell_type": "markdown",
   "id": "2131e187-c220-46d0-95b5-1aa3a0652cf9",
   "metadata": {},
   "source": [
    "# API関連部分を関数化"
   ]
  },
  {
   "cell_type": "code",
   "execution_count": 76,
   "id": "bf6d713e-3752-4d2d-be8e-fc629718a03e",
   "metadata": {},
   "outputs": [],
   "source": [
    "def analyze_sentiment(document):\n",
    "    responce = client.analyze_sentiment(\n",
    "        request= {'document': document}\n",
    "    )\n",
    "    \n",
    "    li = []\n",
    "    for i in responce.sentences:\n",
    "        li.append(\n",
    "            [\n",
    "                i.text.content,\n",
    "                i.sentiment.score\n",
    "            ]\n",
    "        )\n",
    "    return li"
   ]
  },
  {
   "cell_type": "code",
   "execution_count": 92,
   "id": "b74ae70f-2cf6-487c-97b6-f9228ae1787d",
   "metadata": {},
   "outputs": [],
   "source": [
    "exclude_type_ = []\n",
    "def analyze_entity(document):\n",
    "    responce = client.analyze_entities(\n",
    "        request= {'document': document,}\n",
    "    )\n",
    "    li = []\n",
    "    for i in responce.entities:\n",
    "        li.append([i.name, i.type_])\n",
    "        \n",
    "    return li"
   ]
  },
  {
   "cell_type": "code",
   "execution_count": 120,
   "id": "21f2ecce-b118-4f15-a644-6cb902735104",
   "metadata": {},
   "outputs": [],
   "source": [
    "def analyze_documents(df):\n",
    "    li = []\n",
    "    for i in sample_docs.values:\n",
    "        if i[1] == \"ja\":\n",
    "            language = \"ja\"\n",
    "        else:\n",
    "            language = \"en\"\n",
    "        type_ = language_v1.Document.Type.PLAIN_TEXT\n",
    "        document = {\"content\": i[2], \"type_\":type_, \"language\": language}\n",
    "        \n",
    "        sentiment_res = analyze_sentiment(document)\n",
    "        entitiy_res = analyze_entity(document)\n",
    "        index = i[0]\n",
    "        li.append([index, sentiment_res, entitiy_res])\n",
    "    return li"
   ]
  },
  {
   "cell_type": "markdown",
   "id": "4438b901-58db-42ff-8543-001bc9a309bc",
   "metadata": {},
   "source": [
    "# 分析実行 / 加工"
   ]
  },
  {
   "cell_type": "code",
   "execution_count": 122,
   "id": "c817164b-789e-4208-9114-12477095337a",
   "metadata": {},
   "outputs": [],
   "source": [
    "result = analyze_documents(sample_docs)"
   ]
  },
  {
   "cell_type": "code",
   "execution_count": 128,
   "id": "4f95fbc0-145c-4e20-9280-7043b62c6765",
   "metadata": {},
   "outputs": [],
   "source": [
    "# sentiment用にデータ加工\n",
    "li = []\n",
    "for i in result:\n",
    "    index_ = i[0]\n",
    "    \n",
    "    for j in i[1]:\n",
    "        li.append([index_, j[0], j[1]])"
   ]
  },
  {
   "cell_type": "code",
   "execution_count": 134,
   "id": "48a20d05-2f9d-444a-8fd4-a331a8d4df78",
   "metadata": {},
   "outputs": [],
   "source": [
    "sentiment_result = pd.DataFrame(li, columns = [\"index\", \"content\", \"sentiment\"])\n",
    "sentiment_result.to_csv(\"sentiment_result.csv\")"
   ]
  },
  {
   "cell_type": "code",
   "execution_count": 145,
   "id": "a3a4cf99-ea72-4463-ac11-7dda45b96271",
   "metadata": {},
   "outputs": [],
   "source": [
    "# entity用にデータ加工\n",
    "li = []\n",
    "for i in result:\n",
    "    index_ = i[0]\n",
    "    \n",
    "    for j in i[2]:\n",
    "        li.append([index_, j[0], j[1].name])"
   ]
  },
  {
   "cell_type": "code",
   "execution_count": 146,
   "id": "588663a2-9c94-4308-bf58-4a12105c1e1c",
   "metadata": {},
   "outputs": [],
   "source": [
    "entity_result = pd.DataFrame(li, columns = [\"index\", \"entitiy\", \"type\"])\n",
    "entity_result.to_csv(\"entity_result.csv\")"
   ]
  },
  {
   "cell_type": "code",
   "execution_count": null,
   "id": "4ba41983-0274-4f8d-9ae1-1465bfb74be6",
   "metadata": {},
   "outputs": [],
   "source": []
  }
 ],
 "metadata": {
  "environment": {
   "kernel": "python3",
   "name": "common-cpu.m103",
   "type": "gcloud",
   "uri": "gcr.io/deeplearning-platform-release/base-cpu:m103"
  },
  "kernelspec": {
   "display_name": "Python 3",
   "language": "python",
   "name": "python3"
  },
  "language_info": {
   "codemirror_mode": {
    "name": "ipython",
    "version": 3
   },
   "file_extension": ".py",
   "mimetype": "text/x-python",
   "name": "python",
   "nbconvert_exporter": "python",
   "pygments_lexer": "ipython3",
   "version": "3.7.12"
  }
 },
 "nbformat": 4,
 "nbformat_minor": 5
}
